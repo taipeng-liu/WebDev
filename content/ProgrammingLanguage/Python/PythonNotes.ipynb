{
 "cells": [
  {
   "cell_type": "markdown",
   "metadata": {},
   "source": [
    "# This notebook is a pratice on [\"Python Data Science Handbook\"(Jake VanderPlas)](https://jakevdp.github.io/PythonDataScienceHandbook/index.html)"
   ]
  },
  {
   "cell_type": "code",
   "execution_count": null,
   "metadata": {},
   "outputs": [],
   "source": []
  },
  {
   "cell_type": "code",
   "execution_count": 1,
   "metadata": {
    "_cell_guid": "b1076dfc-b9ad-4769-8c92-a6c4dae69d19",
    "_uuid": "8f2839f25d086af736a60e9eeb907d3b93b6e0e5"
   },
   "outputs": [],
   "source": [
    "import numpy as np # linear algebra\n",
    "import pandas as pd # data processing, CSV file I/O (e.g. pd.read_csv)\n",
    "import os\n",
    "for dirname, _, filenames in os.walk('/kaggle/input'):\n",
    "    for filename in filenames:\n",
    "        print(os.path.join(dirname, filename))"
   ]
  },
  {
   "cell_type": "markdown",
   "metadata": {},
   "source": [
    "# **1 PYTHON DATA STRUCTURES**"
   ]
  },
  {
   "cell_type": "markdown",
   "metadata": {},
   "source": [
    "# 1.1 List"
   ]
  },
  {
   "cell_type": "code",
   "execution_count": 2,
   "metadata": {},
   "outputs": [
    {
     "data": {
      "text/plain": [
       "[0, 1, 2, 3, 4, 5, 6, 7, 8, 9]"
      ]
     },
     "execution_count": 2,
     "metadata": {},
     "output_type": "execute_result"
    }
   ],
   "source": [
    "#create a list of integer\n",
    "l = list(range(10))\n",
    "l"
   ]
  },
  {
   "cell_type": "code",
   "execution_count": 3,
   "metadata": {},
   "outputs": [
    {
     "data": {
      "text/plain": [
       "['0', '1', '2', '3', '4', '5', '6', '7', '8', '9']"
      ]
     },
     "execution_count": 3,
     "metadata": {},
     "output_type": "execute_result"
    }
   ],
   "source": [
    "#create a list of string\n",
    "l2 = [str(c) for c in l]\n",
    "l2"
   ]
  },
  {
   "cell_type": "code",
   "execution_count": 5,
   "metadata": {},
   "outputs": [
    {
     "data": {
      "text/plain": [
       "[bool, str, float, int]"
      ]
     },
     "execution_count": 5,
     "metadata": {},
     "output_type": "execute_result"
    }
   ],
   "source": [
    "#create a heterogeneous list\n",
    "l3 = [True, \"2\", 3.0, 4]\n",
    "[type(item) for item in l3]"
   ]
  },
  {
   "cell_type": "markdown",
   "metadata": {},
   "source": [
    "# 1.2 Array"
   ]
  },
  {
   "cell_type": "code",
   "execution_count": 6,
   "metadata": {},
   "outputs": [
    {
     "data": {
      "text/plain": [
       "array('i', [0, 1, 2, 3, 4, 5, 6, 7, 8, 9])"
      ]
     },
     "execution_count": 6,
     "metadata": {},
     "output_type": "execute_result"
    }
   ],
   "source": [
    "import array\n",
    "#create an array\n",
    "a = array.array('i', l) #'i' is an indication of type of integer\n",
    "a"
   ]
  },
  {
   "cell_type": "markdown",
   "metadata": {},
   "source": [
    "# **2 NUMPY**"
   ]
  },
  {
   "cell_type": "markdown",
   "metadata": {},
   "source": [
    "# 2.1 Basics of Array"
   ]
  },
  {
   "cell_type": "markdown",
   "metadata": {},
   "source": [
    "# 2.1.1 Initialization"
   ]
  },
  {
   "cell_type": "code",
   "execution_count": 7,
   "metadata": {},
   "outputs": [
    {
     "data": {
      "text/plain": [
       "array([1., 2., 3., 4.], dtype=float32)"
      ]
     },
     "execution_count": 7,
     "metadata": {},
     "output_type": "execute_result"
    }
   ],
   "source": [
    "#create a NumPy array from a python list\n",
    "np.array([1,2,3,4], dtype = 'float32')"
   ]
  },
  {
   "cell_type": "code",
   "execution_count": 8,
   "metadata": {},
   "outputs": [
    {
     "data": {
      "text/plain": [
       "array([[2, 3, 4],\n",
       "       [4, 5, 6],\n",
       "       [6, 7, 8]])"
      ]
     },
     "execution_count": 8,
     "metadata": {},
     "output_type": "execute_result"
    }
   ],
   "source": [
    "#create a multi-dimensional array (from nested list)\n",
    "np.array([range(i,i+3) for i in [2,4,6]])"
   ]
  },
  {
   "cell_type": "code",
   "execution_count": 9,
   "metadata": {},
   "outputs": [
    {
     "data": {
      "text/plain": [
       "array([0, 0, 0, 0, 0, 0, 0, 0, 0, 0])"
      ]
     },
     "execution_count": 9,
     "metadata": {},
     "output_type": "execute_result"
    }
   ],
   "source": [
    "#create an array with ten 0's\n",
    "np.zeros(10, dtype=int)"
   ]
  },
  {
   "cell_type": "code",
   "execution_count": 10,
   "metadata": {},
   "outputs": [
    {
     "data": {
      "text/plain": [
       "array([[1., 1., 1., 1., 1.],\n",
       "       [1., 1., 1., 1., 1.],\n",
       "       [1., 1., 1., 1., 1.]])"
      ]
     },
     "execution_count": 10,
     "metadata": {},
     "output_type": "execute_result"
    }
   ],
   "source": [
    "#create a 3x5 floating-point array filled with ones\n",
    "np.ones((3,5), dtype=float)"
   ]
  },
  {
   "cell_type": "code",
   "execution_count": 11,
   "metadata": {},
   "outputs": [
    {
     "data": {
      "text/plain": [
       "array([[3.14, 3.14, 3.14, 3.14, 3.14],\n",
       "       [3.14, 3.14, 3.14, 3.14, 3.14],\n",
       "       [3.14, 3.14, 3.14, 3.14, 3.14]])"
      ]
     },
     "execution_count": 11,
     "metadata": {},
     "output_type": "execute_result"
    }
   ],
   "source": [
    "#create a 3x5 array filled with 3.14\n",
    "np.full((3,5), 3.14)"
   ]
  },
  {
   "cell_type": "code",
   "execution_count": 12,
   "metadata": {},
   "outputs": [
    {
     "data": {
      "text/plain": [
       "array([ 0,  2,  4,  6,  8, 10, 12, 14, 16, 18])"
      ]
     },
     "execution_count": 12,
     "metadata": {},
     "output_type": "execute_result"
    }
   ],
   "source": [
    "#create an array filled with linear sequence\n",
    "#start at 0, end 20, step by 2\n",
    "np.arange(0,20,2)"
   ]
  },
  {
   "cell_type": "code",
   "execution_count": 13,
   "metadata": {},
   "outputs": [
    {
     "data": {
      "text/plain": [
       "array([  0.,  25.,  50.,  75., 100.])"
      ]
     },
     "execution_count": 13,
     "metadata": {},
     "output_type": "execute_result"
    }
   ],
   "source": [
    "#create an array of evenly seperated sequence\n",
    "#start at 0, end at 100, 5 points in total\n",
    "np.linspace(0, 100, 5)"
   ]
  },
  {
   "cell_type": "code",
   "execution_count": 14,
   "metadata": {},
   "outputs": [
    {
     "data": {
      "text/plain": [
       "array([[0.5945694 , 0.05750434, 0.10197721],\n",
       "       [0.88783268, 0.33627386, 0.99774796],\n",
       "       [0.76770659, 0.0121771 , 0.21281814]])"
      ]
     },
     "execution_count": 14,
     "metadata": {},
     "output_type": "execute_result"
    }
   ],
   "source": [
    "#create a 3x3 array of *uniformly* distributed random values \n",
    "#between 0 and 1\n",
    "np.random.random((3,3))"
   ]
  },
  {
   "cell_type": "code",
   "execution_count": 15,
   "metadata": {},
   "outputs": [
    {
     "data": {
      "text/plain": [
       "array([[ 1.92031335,  0.49199309, -0.58797629],\n",
       "       [-0.18021428,  0.77939681, -0.19392965],\n",
       "       [-0.00284028, -0.10461239,  0.90558781]])"
      ]
     },
     "execution_count": 15,
     "metadata": {},
     "output_type": "execute_result"
    }
   ],
   "source": [
    "#create a 3x3 array of *normally* distributed random values\n",
    "#with mean 0 and standard deviation 1\n",
    "np.random.normal(0, 1, (3,3))"
   ]
  },
  {
   "cell_type": "code",
   "execution_count": 16,
   "metadata": {},
   "outputs": [
    {
     "data": {
      "text/plain": [
       "array([[9, 4, 4],\n",
       "       [8, 4, 0],\n",
       "       [4, 4, 2]])"
      ]
     },
     "execution_count": 16,
     "metadata": {},
     "output_type": "execute_result"
    }
   ],
   "source": [
    "#create a 3x3 array of random integers in the interval [0,10)\n",
    "np.random.randint(0, 10, (3,3))"
   ]
  },
  {
   "cell_type": "code",
   "execution_count": 17,
   "metadata": {},
   "outputs": [
    {
     "data": {
      "text/plain": [
       "array([[1., 0., 0., 0.],\n",
       "       [0., 1., 0., 0.],\n",
       "       [0., 0., 1., 0.],\n",
       "       [0., 0., 0., 1.]])"
      ]
     },
     "execution_count": 17,
     "metadata": {},
     "output_type": "execute_result"
    }
   ],
   "source": [
    "#create a 4x4 identity matrix\n",
    "np.eye(4)"
   ]
  },
  {
   "cell_type": "code",
   "execution_count": 18,
   "metadata": {},
   "outputs": [
    {
     "data": {
      "text/plain": [
       "array([  0.,  25.,  50.,  75., 100.])"
      ]
     },
     "execution_count": 18,
     "metadata": {},
     "output_type": "execute_result"
    }
   ],
   "source": [
    "#create an uninitialized array of five integers\n",
    "#the value will be whatever happens to already exist at that memory\n",
    "np.empty(5)"
   ]
  },
  {
   "cell_type": "markdown",
   "metadata": {},
   "source": [
    "# 2.1.2 Attributes"
   ]
  },
  {
   "cell_type": "markdown",
   "metadata": {},
   "source": [
    "Each array has attributes: <br>\n",
    "`ndim`, the number of dimentsions <br>\n",
    "`shape`, the size of each dimension <br>\n",
    "`size`, the total size of the array <br>\n",
    "`dtype`, the data type of the array <br>\n",
    "`itemsize`, the size (in bytes) of each item <br>\n",
    "`nbytes`, the total size (in bytes) of the array <br>\n"
   ]
  },
  {
   "cell_type": "code",
   "execution_count": 19,
   "metadata": {},
   "outputs": [],
   "source": [
    "np.random.seed(0)\n",
    "\n",
    "x1 = np.random.randint(10, size=6) # 1D array\n",
    "x2 = np.random.randint(10, size=(3,4)) # 2D array\n",
    "x3 = np.random.randint(10, size=(3,4,5)) # 3D array"
   ]
  },
  {
   "cell_type": "code",
   "execution_count": 20,
   "metadata": {},
   "outputs": [
    {
     "name": "stdout",
     "output_type": "stream",
     "text": [
      "x3's attibutes:  3 (3, 4, 5) 60 int64 8 480\n"
     ]
    }
   ],
   "source": [
    "print(\"x3's attibutes: \", x3.ndim, x3.shape, x3.size, x3.dtype, x3.itemsize, x3.nbytes)"
   ]
  },
  {
   "cell_type": "markdown",
   "metadata": {},
   "source": [
    "# 2.1.3 Indexing"
   ]
  },
  {
   "cell_type": "code",
   "execution_count": 21,
   "metadata": {},
   "outputs": [
    {
     "name": "stdout",
     "output_type": "stream",
     "text": [
      "[5 0 3 3 7 9]\n",
      "7 9\n"
     ]
    }
   ],
   "source": [
    "# for 1D array\n",
    "print(x1)\n",
    "print(x1[4], x1[-1])"
   ]
  },
  {
   "cell_type": "code",
   "execution_count": 22,
   "metadata": {},
   "outputs": [
    {
     "name": "stdout",
     "output_type": "stream",
     "text": [
      "[[3 5 2 4]\n",
      " [7 6 8 8]\n",
      " [1 6 7 7]]\n",
      "3 7\n"
     ]
    }
   ],
   "source": [
    "# for multi-dimensional array\n",
    "print(x2)\n",
    "print(x2[0,0], x2[-1,-2])"
   ]
  },
  {
   "cell_type": "markdown",
   "metadata": {},
   "source": [
    "# 2.1.4 Slicing"
   ]
  },
  {
   "cell_type": "markdown",
   "metadata": {},
   "source": [
    "To access a subarray, we can use *slice* notation (`:`) in this way: <br>\n",
    "`x[start:stop:step]`, by default start=0, stop=len(x), step=1 <br>\n",
    "<br>\n",
    "*Note*: We create a *reference* in this way, so any modification on subarray of `x` will also change the original array. To make a *copy* (allocate a new block of memory), the method `.copy()` is added. <br>\n",
    "Generally speaking, the opetaion such as setnull() which modifies the array will create a copy simultaneously, but the operation such as reshape() which doesn't influence the value of any data will create a reference."
   ]
  },
  {
   "cell_type": "code",
   "execution_count": 23,
   "metadata": {},
   "outputs": [
    {
     "name": "stdout",
     "output_type": "stream",
     "text": [
      "[0 1 2 3 4 5 6 7 8 9]\n",
      "[0 2 4 6 8]\n",
      "[1 3 5 7 9]\n",
      "[9 8 7 6 5 4 3 2 1 0]\n"
     ]
    }
   ],
   "source": [
    "# for 1D array\n",
    "x = np.arange(10)\n",
    "print(x)\n",
    "print(x[::2])\n",
    "print(x[1::2])\n",
    "print(x[::-1]) #convenient way for reversion"
   ]
  },
  {
   "cell_type": "code",
   "execution_count": 24,
   "metadata": {},
   "outputs": [
    {
     "name": "stdout",
     "output_type": "stream",
     "text": [
      "[[3 5 2 4]\n",
      " [7 6 8 8]\n",
      " [1 6 7 7]]\n",
      "[[3 5 2]\n",
      " [7 6 8]]\n",
      "[[3 2]\n",
      " [7 8]]\n",
      "[[7 7 6 1]\n",
      " [8 8 6 7]\n",
      " [4 2 5 3]]\n"
     ]
    }
   ],
   "source": [
    "#for multi-dimensional array\n",
    "print(x2)\n",
    "print(x2[:2, :3]) # first two rows, first three columns\n",
    "print(x2[:2, ::2]) # first two rows. every other columns\n",
    "print(x2[::-1, ::-1]) # reverse"
   ]
  },
  {
   "cell_type": "code",
   "execution_count": 25,
   "metadata": {},
   "outputs": [
    {
     "name": "stdout",
     "output_type": "stream",
     "text": [
      "[3 7 1]\n",
      "[3 5 2 4]\n",
      "[3 5 2 4]\n"
     ]
    }
   ],
   "source": [
    "# access rows and columns\n",
    "print(x2[:,0]) # first column\n",
    "print(x2[0,:]) # first row\n",
    "print(x2[0])   # also first row"
   ]
  },
  {
   "cell_type": "code",
   "execution_count": 26,
   "metadata": {},
   "outputs": [
    {
     "name": "stdout",
     "output_type": "stream",
     "text": [
      "[[0 5 2 4]\n",
      " [7 6 8 8]\n",
      " [1 6 7 7]]\n",
      "[[0 5 2 4]\n",
      " [7 6 8 8]\n",
      " [1 6 7 7]]\n"
     ]
    }
   ],
   "source": [
    "# Difference between *reference* and *copy*\n",
    "x2_ref = x2[:2, :3]\n",
    "x2_copy = x2[:2, :3].copy()\n",
    "x2_ref[0,0] = 0\n",
    "print(x2)\n",
    "x2_copy[0,0] = 99\n",
    "print(x2)"
   ]
  },
  {
   "cell_type": "markdown",
   "metadata": {},
   "source": [
    "# 2.1.5 Reshaping"
   ]
  },
  {
   "cell_type": "markdown",
   "metadata": {},
   "source": [
    "Use `reshape()` method to reshape to any dimension <br>\n",
    "Also use `np.newaxis` to add a new axis<br>"
   ]
  },
  {
   "cell_type": "code",
   "execution_count": null,
   "metadata": {},
   "outputs": [],
   "source": [
    "grid_ref = x1.reshape((2,3)) # the size of x1 must be equal to 2*3\n",
    "print(x1)\n",
    "print(grid_ref) # on most cases, grid_ref is a reference, but with non-contiguous memory buffers it may not be."
   ]
  },
  {
   "cell_type": "code",
   "execution_count": null,
   "metadata": {},
   "outputs": [],
   "source": [
    "# reshape 1D array to multi-dimensional array\n",
    "print(x1)\n",
    "\n",
    "print(x1.reshape(1, 6)) # into a row\n",
    "print(x1[np.newaxis, :]) # also into a row\n",
    "\n",
    "print(x1.reshape(6, 1)) # into a column\n",
    "print(x1[:, np.newaxis]) #also into a column"
   ]
  },
  {
   "cell_type": "markdown",
   "metadata": {},
   "source": [
    "# 2.1.6 Joining and splitting"
   ]
  },
  {
   "cell_type": "markdown",
   "metadata": {},
   "source": [
    "For concatenation of arrays:<br>\n",
    "`np.concatenate`, can concatenate at defined axis <br>\n",
    "`np.vstack`, concatenate vertically <br>\n",
    "`np.hstack`, horizontally <br>\n",
    "`np.dstack`, concatenate in the third axis <br>\n",
    "For seperation of arrays: <br>\n",
    "`np.split`, split an array along specified axis (default=0) <br>\n",
    "`np.hsplit`, horizontally <br>\n",
    "`np.vsplit`, vertically <br>\n",
    "`np.dsplit`, along the 3rd axis <br>"
   ]
  },
  {
   "cell_type": "code",
   "execution_count": null,
   "metadata": {},
   "outputs": [],
   "source": [
    "# usage of np.concatenate\n",
    "# np.concatenate([a,b,c,...])\n",
    "a = np.array([0,1,2,3,4])\n",
    "b = np.array([5,6,7,8,9])\n",
    "c = np.concatenate([a,b])\n",
    "print(\"a+b\\n\",c)\n",
    "print(\"a+b+a+b\\n\",np.concatenate([a,b,a,b])) # nested concatenation\n",
    "c = c.reshape((2,5))\n",
    "print(\"c\\n\", c)\n",
    "print(\"c+c\\n\", np.concatenate([c,c])) # join along the first (default) axis\n",
    "print(\"c+c, axis=1\\n\",np.concatenate([c,c], axis=1)) # join along the second axis"
   ]
  },
  {
   "cell_type": "code",
   "execution_count": null,
   "metadata": {},
   "outputs": [],
   "source": [
    "# usage of np.vstack (vertical stack), np.hstack (horizontal) and np.dstack (depth)\n",
    "a = np.array([0,1,2,3,4])\n",
    "b = np.array([5,6,7,8,9])\n",
    "print(\"a+b, vertical\\n\",np.vstack([a,b]))\n",
    "print(\"a+b, horizontal\\n\", np.hstack([a,b]))\n",
    "print(\"a+b, in 3rd axis\\n\", np.dstack([a,b]))"
   ]
  },
  {
   "cell_type": "code",
   "execution_count": null,
   "metadata": {},
   "outputs": [],
   "source": [
    "# usage of np.split\n",
    "# np.split(c, [*SLIPPING POINTS*])\n",
    "c = np.array([0,1,2,3,4,5,6,7,8,9])\n",
    "a,b,d = np.split(c, [2,7])\n",
    "print(a)\n",
    "print(b)\n",
    "print(d)"
   ]
  },
  {
   "cell_type": "code",
   "execution_count": null,
   "metadata": {},
   "outputs": [],
   "source": [
    "# usage of np.vsplit, np.hsplit\n",
    "c = np.arange(16).reshape((4,4))\n",
    "print(c)\n",
    "a,b = np.vsplit(c, [2])\n",
    "print(\"vsplit\\na\", a, \"\\nb\", b)\n",
    "a,b = np.hsplit(c, [2])\n",
    "print(\"hsplit\\na\", a, \"\\nb\", b)"
   ]
  },
  {
   "cell_type": "markdown",
   "metadata": {},
   "source": [
    "# 2.2 Computation on NumPy Array: Universal Functions (ufuncs)"
   ]
  },
  {
   "cell_type": "markdown",
   "metadata": {},
   "source": [
    "Vectorized operations are implemented via ufuncs, whose main purpose is to QUICKLY execute repeated operations on values in NumPy arrays. Ufuncs exist in two flavors: unary ufuncs (single input) and binary ufuncs (two inputs)."
   ]
  },
  {
   "cell_type": "code",
   "execution_count": null,
   "metadata": {},
   "outputs": [],
   "source": [
    "x = np.arange(1, 6)\n",
    "print(\"x:\\n\",x, \"\\n1/x:\\n\", 1/x)\n",
    "y = np.arange(5, 0, -1)\n",
    "print(\"y:\\n\",y, \"\\nx/y:\\n\", x/y)\n",
    "print(\"2**np.vstack([x,y]):\\n\",2**np.vstack([x,y]))"
   ]
  },
  {
   "cell_type": "markdown",
   "metadata": {},
   "source": [
    "# 2.2.1 Array arithmetic"
   ]
  },
  {
   "cell_type": "code",
   "execution_count": null,
   "metadata": {},
   "outputs": [],
   "source": [
    "x = np.arange(5)\n",
    "print(\"x:\\n\",x)\n",
    "print(\"x+5:\\n\", x+5)  # np.add(x,5)\n",
    "print(\"x-5:\\n\", x-5)  # np.subtract(x,5)\n",
    "print(\"x*2:\\n\", x*2)  # np.multiply(x,2)\n",
    "print(\"x/2:\\n\", x/2)  # np.divide(x,2)\n",
    "print(\"x//2:\\n\", x//2)  # np.floor_divide(x,2)\n",
    "print(\"-x:\\n\", -x)    # np.negative(x)\n",
    "print(\"x**2:\\n\", x**2) # np.power(x,2)\n",
    "print(\"2**x:\\n\", 2**x) # np.power(2,x)\n",
    "print(\"x%2:\\n\", x%2)  # np.mod(x,2)"
   ]
  },
  {
   "cell_type": "markdown",
   "metadata": {},
   "source": [
    "# 2.2.2 Absolute value"
   ]
  },
  {
   "cell_type": "code",
   "execution_count": null,
   "metadata": {},
   "outputs": [],
   "source": [
    "x = np.arange(-6,-1)\n",
    "print(\"x:\\n\",x)\n",
    "print(\"abs(x):\\n\", abs(x)) # np.abs(x)"
   ]
  },
  {
   "cell_type": "markdown",
   "metadata": {},
   "source": [
    "# 2.2.3 Trigonometric functions"
   ]
  },
  {
   "cell_type": "markdown",
   "metadata": {},
   "source": [
    "`sin(x) cos(x) tan(x) arcsin(x) arccos(x) arctan(x)`, `x` is in rad"
   ]
  },
  {
   "cell_type": "markdown",
   "metadata": {},
   "source": [
    "# 2.2.4 Exponents and logarithms"
   ]
  },
  {
   "cell_type": "markdown",
   "metadata": {},
   "source": [
    "`np.exp(x)` = e^x <br>\n",
    "`np.exp2(x)` = 2^x <br>\n",
    "`np.power(3,x)` = 3^x <br>\n",
    "<br>\n",
    "`np.log(x)` = ln(x) <br>\n",
    "`np.log2(x)` = log2(x) <br>\n",
    "`np.log10(x)` = log10(x) <br>\n",
    "<br>\n",
    "Those are more precise when `x` is very small: <br>\n",
    "`np.expm1(x)` = exp(x) - 1 <br>\n",
    "`np.log1p(x)` = ln(1+x) <br>"
   ]
  },
  {
   "cell_type": "markdown",
   "metadata": {},
   "source": [
    "# 2.2.5 Specialized ufuncs"
   ]
  },
  {
   "cell_type": "code",
   "execution_count": null,
   "metadata": {},
   "outputs": [],
   "source": [
    "from scipy import special"
   ]
  },
  {
   "cell_type": "code",
   "execution_count": null,
   "metadata": {},
   "outputs": [],
   "source": [
    "# Gamma functions (generalized factorials) and related functions\n",
    "x = [1, 5, 10]\n",
    "print(\"gamma(x):\\n\", special.gamma(x))\n",
    "print(\"ln|gamma(x):\\n\", special.gammaln(x))\n",
    "print(\"beta(x, 2):\\n\", special.beta(x,2))"
   ]
  },
  {
   "cell_type": "code",
   "execution_count": null,
   "metadata": {},
   "outputs": [],
   "source": [
    "# Error function (integral of Gaussian)\n",
    "# its comlement, and its inverse\n",
    "x = np.array([0, 0.3, 0.7, 1.0])\n",
    "print(\"erf(x):\\n\", special.erf(x))\n",
    "print(\"erfc(x):\\n\", special.erfc(x))\n",
    "print(\"erfinv(x):\\n\", special.erfinv(x))"
   ]
  },
  {
   "cell_type": "markdown",
   "metadata": {},
   "source": [
    "# 2.2.6 Advanced Ufunc Features"
   ]
  },
  {
   "cell_type": "markdown",
   "metadata": {},
   "source": [
    "Specify the `out` attribute."
   ]
  },
  {
   "cell_type": "code",
   "execution_count": null,
   "metadata": {},
   "outputs": [],
   "source": [
    "# specifying `out' is faster than using 'y=x*5'\n",
    "# the later first write x*5 to empty memory then\n",
    "# copy data to y\n",
    "\n",
    "x = np.arange(5)\n",
    "y = np.empty(5)\n",
    "np.multiply(x, 5, out=y)\n",
    "print(y)\n",
    "\n",
    "# `:` is also appliable\n",
    "y = np.zeros(15)\n",
    "np.add(x, 10, out=y[5:15:2])\n",
    "print(y)"
   ]
  },
  {
   "cell_type": "code",
   "execution_count": null,
   "metadata": {},
   "outputs": [],
   "source": [
    "# aggregates\n",
    "\n",
    "## `reduce`, like the next half of mapreduce\n",
    "x = np.arange(1,10)\n",
    "print(x)\n",
    "print(\"The sum is:\", np.add.reduce(x))\n",
    "print(\"The product is:\", np.multiply.reduce(x))\n",
    "print(\"The accumulated sum is:\", np.add.accumulate(x))\n",
    "print(\"The accumulated product is\", np.multiply.accumulate(x))"
   ]
  },
  {
   "cell_type": "code",
   "execution_count": null,
   "metadata": {},
   "outputs": [],
   "source": [
    "# Outer products - the opposite of inner product\n",
    "\n",
    "x = np.arange(1,6)\n",
    "print(x)\n",
    "print(\"inner product\\n\", np.add.reduce(np.multiply(x,x)))\n",
    "print(\"outer product\\n\", np.multiply.outer(x,x))"
   ]
  },
  {
   "cell_type": "markdown",
   "metadata": {},
   "source": [
    "# 2.3 Aggregations: Min, Max, and Everything In Between"
   ]
  },
  {
   "cell_type": "markdown",
   "metadata": {},
   "source": [
    "**Those are available aggregation functions**<br>\n",
    "Func NaN-safe Version\tDescription<br>\n",
    "`np.sum`\t` np.nansum`\tCompute sum of elements<br>\n",
    "`np.prod`\t `np.nanprod`\tCompute product of elements<br>\n",
    "`np.mean`\t `np.nanmean`\tCompute mean of elements<br>\n",
    "`np.std`\t `np.nanstd`\tCompute standard deviation<br>\n",
    "`np.var`\t`np.nanvar`\tCompute variance<br>\n",
    "`np.min`\t`np.nanmin`\tFind minimum value<br>\n",
    "`np.max`\t`np.nanmax`\tFind maximum value<br>\n",
    "`np.argmin`\t`np.nanargmin`\tFind index of minimum value<br>\n",
    "`np.argmax`\t`np.nanargmax`\tFind index of maximum value<br>\n",
    "`np.median`\t`np.nanmedian`\tCompute median of elements<br>\n",
    "`np.percentile`\t`np.nanpercentile`\t<br>Compute rank-based statistics of elements. E.g., `np.percentile(x, 25)` compute 25th percentile<br>\n",
    "`np.any`\t`N/A`\tEvaluate whether any elements are true<br>\n",
    "`np.all`\t`N/A`\tEvaluate whether all elements are true<br>"
   ]
  },
  {
   "cell_type": "markdown",
   "metadata": {},
   "source": [
    "# 2.3.1 Sum"
   ]
  },
  {
   "cell_type": "markdown",
   "metadata": {},
   "source": [
    "np.sum(x) is faster than sum(x)"
   ]
  },
  {
   "cell_type": "code",
   "execution_count": null,
   "metadata": {},
   "outputs": [],
   "source": [
    "# difference between two\n",
    "x = np.random.randint(1, 10, (4,4))\n",
    "print(x)\n",
    "print(\"sum(x):\\n\", sum(x))\n",
    "print(\"np.sum(x) or x.sum():\\n\", np.sum(x))"
   ]
  },
  {
   "cell_type": "markdown",
   "metadata": {},
   "source": [
    "# 2.3.2 Min & Max"
   ]
  },
  {
   "cell_type": "markdown",
   "metadata": {},
   "source": [
    "`np.min` faster than `min`\n",
    "`np.max` faster than `max`"
   ]
  },
  {
   "cell_type": "code",
   "execution_count": null,
   "metadata": {},
   "outputs": [],
   "source": [
    "x = np.arange(0,10).reshape([2,5])\n",
    "print(x)\n",
    "print(\"np.min(x) or x.min():\\n\", np.min(x))\n",
    "print(\"np.max(x) or x.max():\\n\", np.max(x))\n",
    "print(\"x.min(axis=0)\\n\", x.min(axis=0))\n",
    "print(\"x.min(axis=1)\\n\", x.min(axis=1))"
   ]
  },
  {
   "cell_type": "markdown",
   "metadata": {},
   "source": [
    "# 2.4 Broadcasting"
   ]
  },
  {
   "cell_type": "markdown",
   "metadata": {},
   "source": [
    "Broadcasting rules apply to any binary `ufunc`. <br>\n",
    "Rules:<br>\n",
    "(a) If the two arrays differ in their number of dimensions, the shape of the one with fewer dimensions is padded with ones on its leading (left) side.<br>\n",
    "(b) If the shape of the two arrays does not match in any dimension, the array with shape equal to 1 in that dimension is stretched to match the other shape.<br>\n",
    "(c) If in any dimension the sizes disagree and neither is equal to 1, an error is raised.<br>"
   ]
  },
  {
   "cell_type": "code",
   "execution_count": null,
   "metadata": {},
   "outputs": [],
   "source": [
    "a = np.arange(0,3)\n",
    "b = np.arange(3,6)\n",
    "c = np.ones((3,3))\n",
    "print(\"a\\n\", a)\n",
    "print(\"b\\n\", b)\n",
    "print(\"c\\n\", c )\n",
    "print(\"a+b\\n\", a+b)\n",
    "print(\"c+a\\n\", c+a)"
   ]
  },
  {
   "cell_type": "code",
   "execution_count": null,
   "metadata": {},
   "outputs": [],
   "source": [
    "a = np.ones((2,3))\n",
    "b = np.arange(3)\n",
    "print(\"a.shape=\",a.shape)\n",
    "print(a)\n",
    "print(\"b.shape=\",b.shape)\n",
    "print(b)\n",
    "\n",
    "\n",
    "# by rule (a), b.shape = (3,) --> (1,3)\n",
    "# by rule (b), b.shape = (1,3)--> (2,3), same as a.shape\n",
    "print(\"a+b.shape=\", (a+b).shape)\n",
    "print(a+b)"
   ]
  },
  {
   "cell_type": "code",
   "execution_count": null,
   "metadata": {},
   "outputs": [],
   "source": [
    "a = np.arange(3)\n",
    "b = np.arange(3,6).reshape(3,1)\n",
    "print(\"a.shape=\",a.shape)\n",
    "print(a)\n",
    "print(\"b.shape=\",b.shape)\n",
    "print(b)\n",
    "\n",
    "# by rule (a), a.shape = (3,)  --> (1,3)\n",
    "# by rule (b), a.shape = (1,3) --> (3,3)\n",
    "#              b.shape = (3,1) --> (3,3)\n",
    "print(\"(a+b).shape=\", (a+b).shape)\n",
    "print(a+b)"
   ]
  },
  {
   "cell_type": "code",
   "execution_count": null,
   "metadata": {},
   "outputs": [],
   "source": [
    "a = np.ones((3,2))\n",
    "b = np.arange(3)\n",
    "print(\"a.shape=\", a.shape)\n",
    "print(a)\n",
    "print(\"b.shape=\", b.shape)\n",
    "print(b)\n",
    "\n",
    "# by rule (a) and (b), b.shape = (3,) --> ... --> (3,3)\n",
    "# but a.shape = (3,2), according to rule (c), an error happens\n",
    "#print(a+b)"
   ]
  },
  {
   "cell_type": "markdown",
   "metadata": {},
   "source": [
    "# 2.5 Comparisons, Masks, and Boolean Logic"
   ]
  },
  {
   "cell_type": "markdown",
   "metadata": {},
   "source": [
    "# 2.5.1 Comparison Operations as ufuncs:<br>\n",
    "`>`,`>=`,`<`,`<=`,`==`,`!=`; or<br>\n",
    "`np.greater`,`np.greater_euqal`,`np.less`,`np.less_equal`,`np.equal`,`np.not_equal`"
   ]
  },
  {
   "cell_type": "code",
   "execution_count": null,
   "metadata": {},
   "outputs": [],
   "source": [
    "# comparison\n",
    "x = np.arange(5)\n",
    "print(\"x\\n\",x)\n",
    "print(\"x<3\\n\",x<3)\n",
    "print(\"x>=2\\n\",x>=2)\n",
    "print(\"2*x==x**2\\n\", 2*x==x**2)"
   ]
  },
  {
   "cell_type": "markdown",
   "metadata": {},
   "source": [
    "# 2.5.2 Working with Boolean Arrays"
   ]
  },
  {
   "cell_type": "markdown",
   "metadata": {},
   "source": [
    "We can apply `np.sum()`,`np.any()`and `np.all()`"
   ]
  },
  {
   "cell_type": "code",
   "execution_count": null,
   "metadata": {},
   "outputs": [],
   "source": [
    "x = np.arange(5)\n",
    "print(\"x\\n\",x)\n",
    "print(\"np.count_nonzero(x<3)\\n\", np.count_nonzero(x<3))\n",
    "print(\"np.sum(x<3)\\n\",np.sum(x<3)) #sum default to columns\n",
    "x1 = x[:,np.newaxis]\n",
    "print(\"x1\\n\",x1)\n",
    "print(\"np.sum(x1<3,axis=1)\\n\",np.sum(x1<3,axis=1)) #sum each row"
   ]
  },
  {
   "cell_type": "markdown",
   "metadata": {},
   "source": [
    "# 2.5.3 Boolean operators\n",
    "* `&` `np.bitwise_and`\n",
    "* `|` `np.bitwise_or`\n",
    "* `^` `np.bitwise_xor`\n",
    "* `~` `np.bitwise_not`\n",
    "<br>E.g., `np.sum((x>5) & (x<10))`"
   ]
  },
  {
   "cell_type": "markdown",
   "metadata": {},
   "source": [
    "# 2.5.4 Boolean Arrays as Masks"
   ]
  },
  {
   "cell_type": "code",
   "execution_count": null,
   "metadata": {},
   "outputs": [],
   "source": [
    "#  Example of a masking operation\n",
    "x = np.arange(10).reshape(2,5)\n",
    "print(\"x=\\n\",x)\n",
    "# `(x>3) & (x<7)` is the mask\n",
    "print(\"x[(x>3) & (x<7)]=\\n\",x[(x>3)&(x<7)])"
   ]
  },
  {
   "cell_type": "markdown",
   "metadata": {},
   "source": [
    "# 2.6 Fancy Indexing"
   ]
  },
  {
   "cell_type": "markdown",
   "metadata": {},
   "source": [
    "Difference types of indexing:\n",
    "* Simple indices (e.g., `x[0]`)\n",
    "* Slices (e.g., `x[:5]`)\n",
    "* Boolean masks (e.g., `x[x>5]`)\n",
    "* Fancy Indexing"
   ]
  },
  {
   "cell_type": "code",
   "execution_count": null,
   "metadata": {},
   "outputs": [],
   "source": [
    "x = np.arange(10)\n",
    "print(\"x\\n\", x)\n",
    "fancy_index = np.array([[3,7],[5,4]])\n",
    "x[fancy_index]"
   ]
  },
  {
   "cell_type": "code",
   "execution_count": null,
   "metadata": {},
   "outputs": [],
   "source": [
    "x = np.arange(20).reshape((4,5))\n",
    "print(\"x\\n\",x)\n",
    "row = np.array([0,3,2])\n",
    "col = np.array([1,3,4])\n",
    "# [0,3,2],[1,3,4] = [(0,1), (3,3), (2,4)]\n",
    "print(\"x[row,col]\\n\",x[row,col])\n",
    "\n",
    "# [row, col] follows the broadcasting rules\n",
    "row = row[:,np.newaxis]\n",
    "print(\"x[row,col]\\n\", x[row,col])"
   ]
  },
  {
   "cell_type": "code",
   "execution_count": null,
   "metadata": {},
   "outputs": [],
   "source": [
    "# combined indexing\n",
    "x = np.arange(20).reshape((4,5))\n",
    "print(\"x=\\n\", x)\n",
    "print(\"x[2,[2,1,4]]=\\n\", x[2,[2,1,4]]) # combined with simple indices\n",
    "print(\"x[1:,[3,0,2]]=\\n\",x[1:,[3,0,2]]) # combined with clising\n",
    "mask = np.array([1,0,0,1,0], dtype=bool) # combined with masking\n",
    "row = np.array([2,1,3])[:, np.newaxis]\n",
    "print(\"x[row,mask]=\\n\", x[row,mask]) # note: len(mask) = len(x.col)"
   ]
  },
  {
   "cell_type": "code",
   "execution_count": null,
   "metadata": {},
   "outputs": [],
   "source": [
    "# modify values with fancy indexing\n",
    "x = np.arange(10)\n",
    "print(x)\n",
    "i = np.array([4,2,8])\n",
    "x[i] = 666\n",
    "print(x)"
   ]
  },
  {
   "cell_type": "code",
   "execution_count": null,
   "metadata": {},
   "outputs": [],
   "source": [
    "# notice the difference\n",
    "x = np.zeros(10)\n",
    "i = np.array([1,2,2,3,3,3])\n",
    "x[i] += 1 # read value of x[i], add 1, then write to x\n",
    "print(x)\n",
    "\n",
    "x = np.zeros(10)\n",
    "i = np.array([1,2,2,3,3,3])\n",
    "np.add.at(x,i,1) # write in place\n",
    "print(x)\n",
    "# TODO find `reduceat()`"
   ]
  },
  {
   "cell_type": "markdown",
   "metadata": {},
   "source": [
    "# 2.7 Sorting Arrays\n",
    "Use build-in function `np.sort()` with default algorithm *quicksort*. For multi-dimensional arrays, we can specify axis to be sorted by using `np.sort(x, axis=0)` or `np.sort(x, axis=1)`. <br>\n",
    "To select *k* smallest values, we use `np.partition()` which arrange the k smallest values at left side. `axis` can also be specified."
   ]
  },
  {
   "cell_type": "code",
   "execution_count": null,
   "metadata": {},
   "outputs": [],
   "source": [
    "x = np.random.randint(0,100,(10,))\n",
    "print(x)\n",
    "print(\"Sorted array\\n\",np.sort(x))\n",
    "print(\"Sorted indices\\n\", np.argsort(x))\n",
    "\n",
    "print(\"Sort in place\")\n",
    "x.sort()\n",
    "print(x)"
   ]
  },
  {
   "cell_type": "code",
   "execution_count": null,
   "metadata": {},
   "outputs": [],
   "source": [
    "# k smallest values\n",
    "x = np.random.randint(0,100,(10,))\n",
    "np.partition(x,3) # three smallest values are put at left side"
   ]
  },
  {
   "cell_type": "markdown",
   "metadata": {},
   "source": [
    "# 2.8 Structured Array"
   ]
  },
  {
   "cell_type": "code",
   "execution_count": null,
   "metadata": {},
   "outputs": [],
   "source": [
    "name = ['Alice', 'Bob', \"Cathy\", \"Doug\"]\n",
    "age = [25,45,37,19]\n",
    "weight = [55.0, 85.5, 68.0, 61.5]"
   ]
  },
  {
   "cell_type": "code",
   "execution_count": null,
   "metadata": {},
   "outputs": [],
   "source": [
    "data = np.zeros(4, dtype={'names':('name', 'age', 'weight'), 'formats':('U10', 'i4', 'f8')})\n",
    "print(data.dtype)"
   ]
  },
  {
   "cell_type": "code",
   "execution_count": null,
   "metadata": {},
   "outputs": [],
   "source": [
    "data['name'] = name\n",
    "data['age'] = age\n",
    "data['weight'] = weight\n",
    "print(data)"
   ]
  },
  {
   "cell_type": "code",
   "execution_count": null,
   "metadata": {},
   "outputs": [],
   "source": [
    "# indexing\n",
    "print(data['name'])\n",
    "print(data[0])\n",
    "print(data[-1]['name'])"
   ]
  },
  {
   "cell_type": "markdown",
   "metadata": {},
   "source": [
    "# 2.9 Additional Notes"
   ]
  },
  {
   "cell_type": "code",
   "execution_count": null,
   "metadata": {},
   "outputs": [],
   "source": [
    "# randomly choose indices with no repeats\n",
    "x = np.arange(20)[:,np.newaxis]\n",
    "indices = np.random.choice(x.shape[0],10,replace=False) # replace=False ==> No duplicates!\n",
    "print(indices)\n",
    "print(x[indices])"
   ]
  },
  {
   "cell_type": "code",
   "execution_count": null,
   "metadata": {},
   "outputs": [],
   "source": [
    "# select data not in indices\n",
    "print(x[~indices])"
   ]
  },
  {
   "cell_type": "code",
   "execution_count": null,
   "metadata": {},
   "outputs": [],
   "source": [
    "# notes of function `np.searchsorted`\n",
    "#help(np.searchsorted)"
   ]
  },
  {
   "cell_type": "markdown",
   "metadata": {},
   "source": [
    "# 3 PANDAS"
   ]
  },
  {
   "cell_type": "markdown",
   "metadata": {},
   "source": [
    "# 3.1 Introduction"
   ]
  },
  {
   "cell_type": "markdown",
   "metadata": {},
   "source": [
    "# 3.1.1 Initialization of a Series object:<br>\n",
    "`pd.Series(data, index=index)` <br>\n",
    "data: can be a list, a scalar, or a dictionary<br>\n",
    "index: optional"
   ]
  },
  {
   "cell_type": "code",
   "execution_count": null,
   "metadata": {},
   "outputs": [],
   "source": [
    "print(pd.Series([2,4,6]),\"\\n\")\n",
    "print(pd.Series(5, index=[10,20,30]),\"\\n\")\n",
    "print(pd.Series({2:'a', 1:'b', 3:'c'}),'\\n')\n",
    "print(pd.Series({2:'a', 1:'b', 3:'c'}, index=[3,2]),'\\n')"
   ]
  },
  {
   "cell_type": "code",
   "execution_count": null,
   "metadata": {},
   "outputs": [],
   "source": [
    "data = pd.Series([0.25,0.5,0.75,1.0])\n",
    "print(\"data:\\n\",data,'\\n')\n",
    "# Series has attributes `values` and `index`\n",
    "print(\"data.values:\\n\",data.values)\n",
    "print(\"data.index:\\n\",data.index)\n",
    "\n",
    "# Access data\n",
    "print(\"data[1]:\\n\",data[1])\n",
    "print(\"data[1:3]\\n\",data[1:3])\n",
    "\n",
    "# Change index\n",
    "data.index = ['a','b','c','d']\n",
    "print(\"\\ndata:\\n\",data)\n",
    "print(\"data['b']:\\n\",data['b'])\n",
    "print(data.index)\n",
    "data.index = [4,2,3,1]\n",
    "print(\"\\ndata:\\n\",data)\n",
    "print(\"data[4]:\\n\",data[4])\n",
    "print(data.index)"
   ]
  },
  {
   "cell_type": "markdown",
   "metadata": {},
   "source": [
    "# 3.1.2 Initialization of DataFrame\n"
   ]
  },
  {
   "cell_type": "code",
   "execution_count": null,
   "metadata": {},
   "outputs": [],
   "source": [
    "data = [{'a': i, 'b': 2 * i}\n",
    "        for i in range(3)]\n",
    "pd.DataFrame(data)"
   ]
  },
  {
   "cell_type": "code",
   "execution_count": null,
   "metadata": {},
   "outputs": [],
   "source": [
    "pd.DataFrame([{'a': 1, 'b': 2}, {'b': 3, 'c': 4}])"
   ]
  },
  {
   "cell_type": "code",
   "execution_count": null,
   "metadata": {},
   "outputs": [],
   "source": [
    "name = ['A', 'b', 'Hello', 'Coffin', 'dance']\n",
    "age = pd.Series([1,2,5,999,666], index=name)\n",
    "height = pd.Series([150,200,130,97,55], index=name)\n",
    "boo = pd.Series([5,4,3,2,1], index=name)"
   ]
  },
  {
   "cell_type": "code",
   "execution_count": null,
   "metadata": {},
   "outputs": [],
   "source": [
    "df = pd.DataFrame({'age':age, 'height':height, 'boo':boo})\n",
    "print(\"df\\n\",df)\n",
    "\n",
    "print(\"\\ndf.index\\n\",df.index)\n",
    "print(\"df.columns\\n\",df.columns)\n",
    "\n",
    "print(\"\\ndf['height']\\n\",df['height'])"
   ]
  },
  {
   "cell_type": "markdown",
   "metadata": {},
   "source": [
    "# 3.1.3 Initialization of Index\n",
    "<br>\n",
    "Note: `Index` is *immutable*"
   ]
  },
  {
   "cell_type": "code",
   "execution_count": null,
   "metadata": {},
   "outputs": [],
   "source": [
    "ind = pd.Index([2,3,5,7,11])\n",
    "ind"
   ]
  },
  {
   "cell_type": "markdown",
   "metadata": {},
   "source": [
    "# 3.2 Data Indexing and Selection"
   ]
  },
  {
   "cell_type": "markdown",
   "metadata": {},
   "source": [
    "# 3.2.1 Series"
   ]
  },
  {
   "cell_type": "code",
   "execution_count": null,
   "metadata": {},
   "outputs": [],
   "source": [
    "# Series as dictionary\n",
    "\n",
    "\n",
    "data = pd.Series([0.25, 0.5, 0.75, 1.0],\n",
    "                 index=['a', 'b', 'c', 'd'])\n",
    "print(\"data:\\n\", data)\n",
    "\n",
    "# dictionary-like interfaces\n",
    "print(data['b'])\n",
    "print('a' in data)\n",
    "print(data.keys())\n",
    "list(data.items())\n",
    "data['e'] = 1.25\n",
    "print(data)"
   ]
  },
  {
   "cell_type": "code",
   "execution_count": null,
   "metadata": {},
   "outputs": [],
   "source": [
    "# Series as one-dimensional array\n",
    "\n",
    "data = pd.Series([0.25, 0.5, 0.75, 1.0],\n",
    "                 index=['a', 'b', 'c', 'd'])\n",
    "print(\"data:\\n\", data)\n",
    "\n",
    "# interfaces\n",
    "print(data['a':'c']) #slicing by EXPLICIT index, inding data['c']\n",
    "print(data[0:2]) #slicing by IMPLICIT integer index, excluding data[2]\n",
    "print(data[(data>0.3) & (data<0.8)]) #masking\n",
    "print(data[['a', 'd']]) #fancy indexing"
   ]
  },
  {
   "cell_type": "markdown",
   "metadata": {},
   "source": [
    "Due to the confusion from *EXPLICIT* and *IMPLICIT* indexing, we use indexers: `loc`, `iloc`, and `ix`\n",
    "* `loc` ==> explicit index\n",
    "* `iloc` ==> implicit index\n",
    "* `ix` ==> hybrid of the two, same as `[]`-based indexing"
   ]
  },
  {
   "cell_type": "markdown",
   "metadata": {},
   "source": [
    "# 3.2.2 DataFrame"
   ]
  },
  {
   "cell_type": "code",
   "execution_count": null,
   "metadata": {},
   "outputs": [],
   "source": [
    "# as dictionary\n",
    "area = pd.Series({'California': 423967, 'Texas': 695662,\n",
    "                  'New York': 141297, 'Florida': 170312,\n",
    "                  'Illinois': 149995})\n",
    "pop = pd.Series({'California': 38332521, 'Texas': 26448193,\n",
    "                 'New York': 19651127, 'Florida': 19552860,\n",
    "                 'Illinois': 12882135})\n",
    "data = pd.DataFrame({'area':area, 'pop':pop})\n",
    "print(\"data\\n\",data,\"\\n\")\n",
    "\n",
    "print(data['area']) # or we can use `data.area` for string index\n",
    "data['density'] = data['pop'] / data['area']\n",
    "print(\"\\n\",data)"
   ]
  },
  {
   "cell_type": "code",
   "execution_count": null,
   "metadata": {},
   "outputs": [],
   "source": [
    "# as two-dimensionoal array\n",
    "\n",
    "print(data.values,\"\\n\")\n",
    "print(data.T,\"\\n\") # transpose\n",
    "print(data.values[0],\"\\n\")\n",
    "print(data['area'],\"\\n\")\n",
    "print(data.iloc[:3,:2], \"\\n\")\n",
    "print(data.loc[:'Illinois', :'pop'], \"\\n\")\n",
    "print(data.loc[data.density>100,['pop','density']])"
   ]
  },
  {
   "cell_type": "code",
   "execution_count": null,
   "metadata": {},
   "outputs": [],
   "source": [
    "# Additional notes\n",
    "\n",
    "# indexing refers to *colunms*\n",
    "print(data['area'])\n",
    "#print(data['New York']) ==> This is wrong\n",
    "\n",
    "# but slicing refers to *rows*\n",
    "print(data['New York':'Florida'])\n",
    "#print(data['area':'pop']) ==> Wroing!\n",
    "print(data[1:3])\n",
    "\n",
    "# masking also operates on *rows*\n",
    "print(data[data.density>100])"
   ]
  },
  {
   "cell_type": "markdown",
   "metadata": {},
   "source": [
    "# 3.3 Operating on Data\n",
    "\n",
    "|     |                                 |\n",
    "|:---:|:-------------------------------:|\n",
    "|`+`  |`add()`|\n",
    "|`-`  | `sub()`,`subtract()`|\n",
    "|`*`  | `mul()`, `multiply()`|\n",
    "|`/`  | `truediv()`, `div()`, `divide()`|\n",
    "|`//` | `floordiv()`|\n",
    "|`%`  | `mod()`|\n",
    "|`**` | `pow()`|"
   ]
  },
  {
   "cell_type": "markdown",
   "metadata": {},
   "source": [
    "## 3.3.1 Ufuncs: Index Preservation\n",
    "\n",
    "NumPy ufunc is also applicable to DataFrame"
   ]
  },
  {
   "cell_type": "code",
   "execution_count": null,
   "metadata": {},
   "outputs": [],
   "source": [
    "rng = np.random.RandomState(42)\n",
    "ser = pd.Series(rng.randint(0,10,4))\n",
    "print(ser)\n",
    "print(np.exp(ser))"
   ]
  },
  {
   "cell_type": "code",
   "execution_count": null,
   "metadata": {},
   "outputs": [],
   "source": [
    "df = pd.DataFrame(rng.randint(0,10,(3,4)), columns=['a','b','c','d'])\n",
    "print(df)\n",
    "print(np.sin(df*np.pi/4))"
   ]
  },
  {
   "cell_type": "markdown",
   "metadata": {},
   "source": [
    "## 3.3.2 UFuncs: Index Alignment\n",
    "\n",
    "### Index alignment in Series"
   ]
  },
  {
   "cell_type": "code",
   "execution_count": null,
   "metadata": {},
   "outputs": [],
   "source": [
    "A = pd.Series([2, 4, 6], index=[0, 1, 2])\n",
    "B = pd.Series([1, 3, 5], index=[1, 2, 3])\n",
    "print(A)\n",
    "print(B)"
   ]
  },
  {
   "cell_type": "code",
   "execution_count": null,
   "metadata": {},
   "outputs": [],
   "source": [
    "A + B"
   ]
  },
  {
   "cell_type": "code",
   "execution_count": null,
   "metadata": {},
   "outputs": [],
   "source": [
    "A.add(B, fill_value=0)"
   ]
  },
  {
   "cell_type": "markdown",
   "metadata": {},
   "source": [
    "### Index alignment in DataFrame"
   ]
  },
  {
   "cell_type": "code",
   "execution_count": null,
   "metadata": {},
   "outputs": [],
   "source": [
    "A = pd.DataFrame(rng.randint(0,20,(2,2)), columns=['a','b'])\n",
    "B = pd.DataFrame(rng.randint(0,10,(3,3)), columns=['b','a','c'])\n",
    "print(A,\"\\n\")\n",
    "print(B)"
   ]
  },
  {
   "cell_type": "code",
   "execution_count": null,
   "metadata": {},
   "outputs": [],
   "source": [
    "A + B"
   ]
  },
  {
   "cell_type": "code",
   "execution_count": null,
   "metadata": {},
   "outputs": [],
   "source": [
    "A.add(B, fill_value=A.stack().mean())"
   ]
  },
  {
   "cell_type": "markdown",
   "metadata": {},
   "source": [
    "## 3.3.3 Ufuncs: Operations Between DataFrame and Series\n",
    "\n",
    "Recall the rules of broadcasting!"
   ]
  },
  {
   "cell_type": "code",
   "execution_count": null,
   "metadata": {},
   "outputs": [],
   "source": [
    "B - B.iloc[0] # row-wise"
   ]
  },
  {
   "cell_type": "code",
   "execution_count": null,
   "metadata": {},
   "outputs": [],
   "source": [
    "B.subtract(B['b'], axis=0) # column-wise"
   ]
  },
  {
   "cell_type": "markdown",
   "metadata": {},
   "source": [
    "# 3.4 Handling Missing Data"
   ]
  },
  {
   "cell_type": "code",
   "execution_count": null,
   "metadata": {},
   "outputs": [],
   "source": [
    "df_na = pd.DataFrame({'Name':['A', 'b', 'Hello', 'Coffin', 'dance'], 'Age':[1, 2, 5, None, 666], 'Height':[150, None, 130, 97, 55], 10:[None,4,3,2,None]})\n",
    "df_na"
   ]
  },
  {
   "cell_type": "code",
   "execution_count": null,
   "metadata": {},
   "outputs": [],
   "source": [
    "df_na.isnull()"
   ]
  },
  {
   "cell_type": "code",
   "execution_count": null,
   "metadata": {},
   "outputs": [],
   "source": [
    "df_na[df_na.notnull()]"
   ]
  },
  {
   "cell_type": "code",
   "execution_count": null,
   "metadata": {},
   "outputs": [],
   "source": [
    "#default: axis='rows' or 1, how='any'\n",
    "#df_na.dropna() \n",
    "\n",
    "#df_na.dropna(axis=1) #or axis = 'columns'\n",
    "\n",
    "#only drop columns w/ all NaN's\n",
    "#df_na.dropna(axis=1, how='all') \n",
    " \n",
    "#if the axis has # of non-null < thresh, drop it!\n",
    "#In other words, the threshold is the minimum # of valid data\n",
    "df_na.dropna(axis=1, thresh=4)"
   ]
  },
  {
   "cell_type": "code",
   "execution_count": null,
   "metadata": {},
   "outputs": [],
   "source": [
    "df_na.fillna(0) #fill w/ 0\n",
    "#df_na.fillna(0, inplace=True) #Modify the original data, not a copy\n",
    "#df_na.fillna(df_na.mean()) #fill w/ mean value\n",
    "#df_na.fillna(method='ffill') #forward fill, fill w/ previous value\n",
    "#df_na.fillna(method='bfill') #back fill, fill w/ next value\n",
    "#df_na.fillna(method='ffill', axis=1)"
   ]
  },
  {
   "cell_type": "code",
   "execution_count": null,
   "metadata": {},
   "outputs": [],
   "source": [
    "df_na.mean()"
   ]
  },
  {
   "cell_type": "markdown",
   "metadata": {},
   "source": [
    "# 3.5 Hierarchical Indexing"
   ]
  },
  {
   "cell_type": "markdown",
   "metadata": {},
   "source": [
    "# 3.10 Additional notes"
   ]
  },
  {
   "cell_type": "code",
   "execution_count": null,
   "metadata": {},
   "outputs": [],
   "source": [
    "# select data not in index\n",
    "indices = [0, 7, 8, 9]\n",
    "df[~df.index.isin(indices)]"
   ]
  },
  {
   "cell_type": "code",
   "execution_count": null,
   "metadata": {},
   "outputs": [],
   "source": []
  }
 ],
 "metadata": {
  "kernelspec": {
   "display_name": "Python 3",
   "language": "python",
   "name": "python3"
  },
  "language_info": {
   "codemirror_mode": {
    "name": "ipython",
    "version": 3
   },
   "file_extension": ".py",
   "mimetype": "text/x-python",
   "name": "python",
   "nbconvert_exporter": "python",
   "pygments_lexer": "ipython3",
   "version": "3.6.8"
  }
 },
 "nbformat": 4,
 "nbformat_minor": 4
}